{
 "cells": [
  {
   "cell_type": "markdown",
   "metadata": {},
   "source": [
    "# Opgave 1\n",
    "Vi betragter den lineære transformation\n",
    "$$ \n",
    "T(x_1,x_2,x_3,x_4,x_5) = \n",
    "\\begin{pmatrix} \n",
    "2x_1-4x_2-x_3-3x_4+2x_5\\\\\n",
    "-x_1+2x_2+x_3+x_5\\\\\n",
    "x_1-2x_2-x_3-3x_4-x_5\\\\\n",
    "-x_1+4x_2-x_3+x_5\n",
    "\\end{pmatrix} \\quad \\text{ For }\\quad \n",
    "\\begin{pmatrix}x_1 \\\\ x_2\\\\ x_3\\\\ x_4\\\\ x_5\\end{pmatrix} \\in \\mathbb{R}^5$$"
   ]
  },
  {
   "cell_type": "markdown",
   "metadata": {},
   "source": [
    "## A\n",
    "Vi bestemmer matricen $A$ som opfylder $T(x) = Ax$ for alle $x \\in R^5$"
   ]
  },
  {
   "cell_type": "markdown",
   "metadata": {},
   "source": [
    "Vi opstiller coefficientmatricen"
   ]
  },
  {
   "cell_type": "code",
   "execution_count": 33,
   "metadata": {},
   "outputs": [
    {
     "data": {
      "text/html": [
       "<html><script type=\"math/tex; mode=display\">\\newcommand{\\Bold}[1]{\\mathbf{#1}}\\left(\\begin{array}{rrrrr}\n",
       "2 & -4 & -1 & -3 & 2 \\\\\n",
       "-1 & 2 & 1 & 0 & 1 \\\\\n",
       "1 & -2 & -1 & -3 & -1 \\\\\n",
       "-1 & 4 & -1 & 0 & 1\n",
       "\\end{array}\\right)</script></html>"
      ],
      "text/plain": [
       "[ 2 -4 -1 -3  2]\n",
       "[-1  2  1  0  1]\n",
       "[ 1 -2 -1 -3 -1]\n",
       "[-1  4 -1  0  1]"
      ]
     },
     "metadata": {},
     "output_type": "display_data"
    }
   ],
   "source": [
    "A = matrix([[2,-4,-1,-3,2],[-1,2,1,0,1],[1,-2,-1,-3,-1],[-1,4,-1,0,1]])\n",
    "show(A)"
   ]
  },
  {
   "cell_type": "markdown",
   "metadata": {},
   "source": [
    "## B\n",
    "Vi lader nu $ y=\\begin{pmatrix}y_1 \\\\ y_2 \\\\ y_3 \\\\ y_4 \\end{pmatrix}$ være en vilkårlig ukendt vektor, og vil nu finde en $x$ således at $Ax = y$"
   ]
  },
  {
   "cell_type": "code",
   "execution_count": 34,
   "metadata": {},
   "outputs": [
    {
     "data": {
      "text/html": [
       "<html><script type=\"math/tex; mode=display\">\\newcommand{\\Bold}[1]{\\mathbf{#1}}\\left(\\begin{array}{rrrrrr}\n",
       "2 & -4 & -1 & -3 & 2 & y_{1} \\\\\n",
       "-1 & 2 & 1 & 0 & 1 & y_{2} \\\\\n",
       "1 & -2 & -1 & -3 & -1 & y_{3} \\\\\n",
       "-1 & 4 & -1 & 0 & 1 & y_{4}\n",
       "\\end{array}\\right)</script></html>"
      ],
      "text/plain": [
       "[ 2 -4 -1 -3  2 y1]\n",
       "[-1  2  1  0  1 y2]\n",
       "[ 1 -2 -1 -3 -1 y3]\n",
       "[-1  4 -1  0  1 y4]"
      ]
     },
     "metadata": {},
     "output_type": "display_data"
    }
   ],
   "source": [
    "var(\"y1, y2, y3, y4\")\n",
    "A_1 = A.change_ring(SR).augment(vector([y1,y2,y3,y4]))\n",
    "show(A_1)"
   ]
  },
  {
   "cell_type": "code",
   "execution_count": 35,
   "metadata": {},
   "outputs": [
    {
     "name": "stdout",
     "output_type": "stream",
     "text": [
      "Swap rows r0 <-> r2\n",
      "Add rows r1 + 1 * r0\n",
      "Add rows r2 + -2 * r0\n",
      "Add rows r3 + 1 * r0\n",
      "Swap rows r3 <-> r1\n",
      "Rescale row r1 * 1/2\n",
      "Add rows r0 + 2 * r1\n",
      "Add rows r1 + 1 * r2\n",
      "Add rows r0 + 3 * r2\n",
      "Add rows r2 + 1 * r3\n",
      "Add rows r1 + 1/2 * r3\n",
      "Add rows r0 + 1 * r3\n",
      "Rescale row r3 * -1/3\n"
     ]
    },
    {
     "data": {
      "text/html": [
       "<html><script type=\"math/tex; mode=display\">\\newcommand{\\Bold}[1]{\\mathbf{#1}}\\left(\\begin{array}{rrrrrr}\n",
       "1 & 0 & 0 & 0 & 11 & 3 \\, y_{1} + y_{2} - 3 \\, y_{3} + y_{4} \\\\\n",
       "0 & 1 & 0 & 0 & 4 & y_{1} + \\frac{1}{2} \\, y_{2} - y_{3} + \\frac{1}{2} \\, y_{4} \\\\\n",
       "0 & 0 & 1 & 0 & 4 & y_{1} + y_{2} - y_{3} \\\\\n",
       "0 & 0 & 0 & 1 & 0 & -\\frac{1}{3} \\, y_{2} - \\frac{1}{3} \\, y_{3}\n",
       "\\end{array}\\right)</script></html>"
      ],
      "text/plain": [
       "[                        1                         0                         0                         0                        11     3*y1 + y2 - 3*y3 + y4]\n",
       "[                        0                         1                         0                         0                         4 y1 + 1/2*y2 - y3 + 1/2*y4]\n",
       "[                        0                         0                         1                         0                         4              y1 + y2 - y3]\n",
       "[                        0                         0                         0                         1                         0          -1/3*y2 - 1/3*y3]"
      ]
     },
     "metadata": {},
     "output_type": "display_data"
    }
   ],
   "source": [
    "args = [\n",
    "    (\"s\",0,2),\n",
    "    (\"a\",1,0,1),\n",
    "    (\"a\",2,0,-2),\n",
    "    (\"a\",3,0,1),\n",
    "    (\"s\",3,1),\n",
    "    (\"r\",1,1/2),\n",
    "    (\"a\",0,1,2),\n",
    "    (\"a\",1,2,1),\n",
    "    (\"a\",0,2,3),\n",
    "    (\"a\",2,3,1),\n",
    "    (\"a\",1,3,1/2),\n",
    "    (\"a\",0,3,1),\n",
    "    (\"r\",3,-1/3)\n",
    "    ]\n",
    "\n",
    "M = copy(A_1)\n",
    "for ero in args:\n",
    "    if ero[0] == \"s\":\n",
    "        print(\"Swap rows r{} <-> r{}\".format(*ero[1:]))\n",
    "        M.swap_rows(*ero[1:])\n",
    "    if ero[0] == \"a\":\n",
    "        print(\"Add rows r{} + {} * r{}\".format(ero[1],ero[3],ero[2]))\n",
    "        M.add_multiple_of_row(*ero[1:])\n",
    "    if ero[0] == \"r\":\n",
    "        print(\"Rescale row r{} * {}\".format(*ero[1:]))\n",
    "        M.rescale_row(*ero[1:])\n",
    "    #print(latex(M))\n",
    "show(M)\n"
   ]
  },
  {
   "cell_type": "markdown",
   "metadata": {},
   "source": [
    "## C\n",
    "Vi er nu blevet bedt om at bestemme en basis for ker t. Vi finder alle de vektorer der opfylder $Ax=0$ ved at opstille en totalmatrice og løse den\n",
    "\n",
    "Vi har tidligere udregnet $A^*$, altså $Ax = y$, og hvis $y = 0$ så har vi følgende vektorer opfylder $Ax=0$\n",
    "$$ \n",
    "\\begin{bmatrix}x_1,x_2,x_3,x_4,x_5\\end{bmatrix} =  t\\cdot \\begin{bmatrix}-11\\\\-4\\\\-4\\\\0\\\\1\\end{bmatrix}\n",
    "$$"
   ]
  },
  {
   "cell_type": "markdown",
   "metadata": {},
   "source": [
    "Og for at teste det så sætter vi $t=1$ og udregner transformationen\n",
    "$$ \n",
    "T(-11,-4,-4,0,1) = \n",
    "\\begin{pmatrix} \n",
    "2x_1-4x_2-x_3-3x_4+2x_5\\\\\n",
    "-x_1+2x_2+x_3+x_5\\\\\n",
    "x_1-2x_2-x_3-3x_4-x_5\\\\\n",
    "-x_1+4x_2-x_3+x_5\n",
    "\\end{pmatrix} = \\begin{pmatrix} \n",
    "2\\cdot(-11)-4\\cdot(-4)+4+2\\\\\n",
    "11-2\\cdot 4 -4+1\\\\\n",
    "-11+2\\cdot 4+ 4 -1\\\\\n",
    "11-4\\cdot4+4+1\n",
    "\\end{pmatrix} = \\begin{pmatrix} \n",
    "0\\\\\n",
    "0\\\\\n",
    "0\\\\\n",
    "0\n",
    "\\end{pmatrix}$$"
   ]
  },
  {
   "cell_type": "markdown",
   "metadata": {},
   "source": [
    "## D\n",
    "Vi vil nu gøre rede for at enhver højreinvers til $T$ er injektiv, Altså at enhver vektor $x$ har en og kun en tilsvarende $T(x) = y$, og vice versa.\n",
    "\n",
    "En højreinvers $S$ til en transformation $T$ kan defineres af $S(T(x)) = x$.  \n",
    "Det er et krav for at en funktion er injektiv at hvis $S(x_1) = S(x_2)$ så må det gælde at $x_1 = x_2$.\n",
    "\n",
    "Hvis der fandtes en ikke-injektiv funktion $S$ så ville det være muligt at have flere forskellige $x$ således at $S(T(x_1)) = S(T(x_2))$ hvor $x_1 \\neq x_2$, og derfor er $S$ af n"
   ]
  }
 ],
 "metadata": {
  "kernelspec": {
   "display_name": "SageMath 8.7",
   "language": "",
   "name": "sagemath"
  },
  "language_info": {
   "codemirror_mode": {
    "name": "ipython",
    "version": 2
   },
   "file_extension": ".py",
   "mimetype": "text/x-python",
   "name": "python",
   "nbconvert_exporter": "python",
   "pygments_lexer": "ipython2",
   "version": "2.7.16"
  }
 },
 "nbformat": 4,
 "nbformat_minor": 2
}
