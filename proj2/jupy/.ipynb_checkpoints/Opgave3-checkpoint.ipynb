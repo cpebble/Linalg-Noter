{
 "cells": [
  {
   "cell_type": "markdown",
   "metadata": {},
   "source": [
    "Vi har et spil som asteroids hvor vi gerne vil rykke rundt på et rumskib, som er bestemt ved to punkter $C = (c_1,C_2)$ og $S = (s_1, s_2)$\n",
    "\n",
    "Ved spillets start er rumskibet placeret med $C = (0,0)$ og $S = (0,1)$. Vi har at ved tryk på venstre eller højre pil, roteres rumskibet om sit centrum ed en vis vinkel $\\theta$ mod eller med uret. Ved tryk på op, forskydes rumskibet efter vektoren $\\vec{CS}$"
   ]
  },
  {
   "cell_type": "markdown",
   "metadata": {},
   "source": [
    "Vi samler de fire tal $c_1,c_2,s_1,s_2$ som en vektor i $R^4$"
   ]
  },
  {
   "cell_type": "markdown",
   "metadata": {},
   "source": [
    "## A\n",
    "Vi vil nu bestemme en matrice $F$ som forskyder vektoren frem.\n",
    "Vi opstiller matricen \n",
    "$$\\begin{pmatrix}\n",
    "0&0&1&0\\\\\n",
    "0&0&0&1\\\\\n",
    "-1&0&2&0\\\\\n",
    "0&-1&0&2\\\\\n",
    "\\end{pmatrix}$$"
   ]
  },
  {
   "cell_type": "code",
   "execution_count": 89,
   "metadata": {},
   "outputs": [],
   "source": [
    "a = matrix([[0,0,1,0],[0,0,0,1],[-1,0,2,0],[0,-1,0,2]])"
   ]
  },
  {
   "cell_type": "code",
   "execution_count": 90,
   "metadata": {},
   "outputs": [
    {
     "data": {
      "text/plain": [
       "[0]\n",
       "[1]\n",
       "[0]\n",
       "[2]"
      ]
     },
     "execution_count": 90,
     "metadata": {},
     "output_type": "execute_result"
    }
   ],
   "source": [
    "a*matrix([[0],[0],[0],[1]])"
   ]
  },
  {
   "cell_type": "markdown",
   "metadata": {},
   "source": [
    "## B\n",
    "Vis at rotationsmatricerne $L_\\theta$ og $R_\\theta$ er rotationsmatricer som følger:"
   ]
  },
  {
   "cell_type": "markdown",
   "metadata": {},
   "source": [
    "Vi opstiller så også en formel for S. Vi har fået udleveret at efter en transformation $\\begin{pmatrix}s^L_1\\\\ s^L_2\\end{pmatrix} = \\begin{pmatrix}c_1\\\\ c_2\\end{pmatrix} + \\begin{pmatrix}\\cos\\theta&-\\sin\\theta\\\\\\sin\\theta&\\cos\\theta\\end{pmatrix}\\begin{pmatrix}s_1-c_1\\\\ s_2-c_2\\end{pmatrix}$"
   ]
  },
  {
   "cell_type": "markdown",
   "metadata": {},
   "source": [
    "Ud fra det kan vi se at $C + R_\\theta\\cdot \\vec{CS} = S$"
   ]
  },
  {
   "cell_type": "markdown",
   "metadata": {},
   "source": [
    "Vi ganger først $R \\vec{CS}$ sammen og får \n",
    "$$ R\\cdot \\vec{CS} = \n",
    "\\begin{pmatrix}\n",
    "    \\cos\\theta\\cdot(s_1 - c_1) - \\sin\\theta \\cdot(s_2-c_2)\\\\\n",
    "    \\sin\\theta\\cdot(s_1 - c_1) + \\cos\\theta (s_2-c_2)\n",
    "\\end{pmatrix}\n",
    "$$"
   ]
  },
  {
   "cell_type": "markdown",
   "metadata": {},
   "source": [
    "Vi udvider så paranteserne\n",
    "$$ S = \\begin{pmatrix}c_1\\\\ c_2\\end{pmatrix} +\n",
    "\\begin{pmatrix} \n",
    "s_1(\\cos\\theta)- c_1(\\cos\\theta) -s_2(\\sin\\theta) + c_2(\\sin\\theta)\\\\\n",
    "s_1(\\sin\\theta)-c_1(\\sin\\theta) + s_2(\\cos\\theta) -c_2(\\cos\\theta)\n",
    "\\end{pmatrix}\n",
    "$$"
   ]
  },
  {
   "cell_type": "markdown",
   "metadata": {},
   "source": [
    "Nu har vi så næsten parametriseret matricen, vi summere nu ligningen"
   ]
  },
  {
   "cell_type": "markdown",
   "metadata": {},
   "source": [
    "$$ S = \\begin{pmatrix}\n",
    "    s_1(\\cos\\theta)& c_1-c_1(\\cos\\theta)& -s_2(\\sin\\theta) & +c_2(\\sin\\theta)\\\\\n",
    "    s_1(\\sin\\theta)&-c1(\\sin\\theta)& +s_2(\\cos\\theta) & c_2 - c_2 (\\cos\\theta)\n",
    "    \\end{pmatrix}\n",
    "$$"
   ]
  },
  {
   "cell_type": "markdown",
   "metadata": {},
   "source": [
    "Den opmærksomme læser har nu spottet at vi næsten har opsat en ligning for den parametriserede $S$. Vi sætter op med coefficienterne(og omarrangerer efter den rækkefølge de skal passe i: $c_1 c_2 s_1 s_2)"
   ]
  },
  {
   "cell_type": "markdown",
   "metadata": {},
   "source": [
    "$$\n",
    "S = \\begin{bmatrix}\n",
    "1-\\cos\\theta & \\sin\\theta   & \\cos\\theta & -\\sin\\theta\\\\\n",
    "-\\sin\\theta & 1-\\cos\\theta & \\sin\\theta & \\cos\\theta\n",
    "\\end{bmatrix}\n",
    "$$"
   ]
  },
  {
   "cell_type": "markdown",
   "metadata": {},
   "source": [
    "Og hey. Det var 100% det vi skulle vise for S. Vi har derfor matricen\n",
    "$$ L_\\theta = \\begin{pmatrix}1&0&0&0\\\\0&1&0&0\\\\\n",
    "1-\\cos\\theta & \\sin\\theta   & \\cos\\theta & -\\sin\\theta\\\\\n",
    "-\\sin\\theta & 1-\\cos\\theta & \\sin\\theta & \\cos\\theta\n",
    "\\end{pmatrix}\n",
    "$$"
   ]
  },
  {
   "cell_type": "markdown",
   "metadata": {},
   "source": [
    "Vi får så også at vide at $R_\\theta = L_{-\\theta}$. Vi husker også $cos_\\theta = cos_{-\\theta}$. Derfor har vi\n",
    "$$ R_\\theta \\begin{pmatrix}1&0&0&0\\\\0&1&0&0\\\\\n",
    "1-\\cos\\theta & -\\sin\\theta   & \\cos\\theta & \\sin\\theta\\\\\n",
    "\\sin\\theta & 1-\\cos\\theta & -\\sin\\theta & \\cos\\theta\n",
    "\\end{pmatrix}\n",
    "$$"
   ]
  },
  {
   "cell_type": "markdown",
   "metadata": {},
   "source": [
    "## C"
   ]
  },
  {
   "cell_type": "code",
   "execution_count": 102,
   "metadata": {},
   "outputs": [],
   "source": [
    "var(\"t\")\n",
    "t = 25* (pi/180)\n",
    "F = matrix([[0,0,1,0],[0,0,0,1],[-1,0,2,0],[0,-1,0,2]])\n",
    "L = matrix([\n",
    "    [1,0,0,0],\n",
    "    [0,1,0,0],\n",
    "    [1-cos(t), sin(t), cos(t), -sin(t)],\n",
    "    [-sin(t), 1-cos(t), sin(t), cos(t)],\n",
    "])\n",
    "R = matrix([\n",
    "    [1,0,0,0],\n",
    "    [0,1,0,0],\n",
    "    [1-cos(t),-sin(t), cos(t), sin(t)],\n",
    "    [sin(t), 1-cos(t), -sin(t), cos(t)]\n",
    "])\n",
    "P = matrix(SR, [[0],[0],[0],[1]])"
   ]
  },
  {
   "cell_type": "code",
   "execution_count": 92,
   "metadata": {},
   "outputs": [],
   "source": [
    "P1 = F*R*F*R*F*F*L*P"
   ]
  },
  {
   "cell_type": "code",
   "execution_count": 111,
   "metadata": {},
   "outputs": [
    {
     "data": {
      "text/html": [
       "<html><script type=\"math/tex; mode=display\">\\newcommand{\\Bold}[1]{\\mathbf{#1}}\\left(\\begin{array}{r}\n",
       "-0.423 \\\\\n",
       "3.72 \\\\\n",
       "0.000366 \\\\\n",
       "4.62\n",
       "\\end{array}\\right)</script></html>"
      ],
      "text/plain": [
       "[  -0.423]\n",
       "[    3.72]\n",
       "[0.000366]\n",
       "[    4.62]"
      ]
     },
     "metadata": {},
     "output_type": "display_data"
    }
   ],
   "source": [
    "show(N(P1, digits=3)) # Print en numerisk approximation med 3 betydende cifre"
   ]
  },
  {
   "cell_type": "markdown",
   "metadata": {},
   "source": [
    "## D\n",
    "Vi vil nu forklare hvorfor $L_\\theta^{72} = I_4$.\n",
    "Det gælder at $\\theta$ er $25^\\circ$, og $L_\\theta^72$ er det samme som at rotere $\\theta\\cdot 72 = 1800$ grader. Kigger vi så på $L_{1800}$ får vi\n",
    "$$ \\begin{pmatrix}\n",
    "1&0&0&0\\\\\n",
    "0&1&0&0\\\\\n",
    "0 & 0  & 1 & 0\\\\\n",
    "0 & 0 & 0 & 1\\\\\n",
    "\\end{pmatrix}$$"
   ]
  },
  {
   "cell_type": "markdown",
   "metadata": {},
   "source": [
    "Tænker vi over det så ser vi at en rotation på 1800 grader, er det samme som at dreje rundt om sig selv, 5 hele gange, og at det derfor giver mening at $\\cos(1800) = 1$ og $\\sin(1800) = 0$"
   ]
  }
 ],
 "metadata": {
  "kernelspec": {
   "display_name": "SageMath 8.7",
   "language": "",
   "name": "sagemath"
  },
  "language_info": {
   "codemirror_mode": {
    "name": "ipython",
    "version": 2
   },
   "file_extension": ".py",
   "mimetype": "text/x-python",
   "name": "python",
   "nbconvert_exporter": "python",
   "pygments_lexer": "ipython2",
   "version": "2.7.16"
  }
 },
 "nbformat": 4,
 "nbformat_minor": 2
}
