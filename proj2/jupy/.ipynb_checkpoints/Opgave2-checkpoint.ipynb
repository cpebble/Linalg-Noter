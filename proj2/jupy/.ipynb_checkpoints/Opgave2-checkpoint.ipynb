{
 "cells": [
  {
   "cell_type": "markdown",
   "metadata": {},
   "source": [
    "# Opgave 2\n",
    "Vi betragter følgende vektorer i $\\mathbb{R}^4$\n",
    "$$ u_1 = \\begin{pmatrix}1\\\\ -1\\\\ 1\\\\ 1 \\end{pmatrix}, \n",
    "u_2 = \\begin{pmatrix} 1\\\\ 2\\\\ 0\\\\ 2\\end{pmatrix},\n",
    "u_3 = \\begin{pmatrix}1\\\\ 0\\\\ -1\\\\ 0\\end{pmatrix}, \\text{ og }\n",
    "v_1 = \\begin{pmatrix}5\\\\ -3\\\\ -4\\\\ -1\\end{pmatrix},\n",
    "v_2 = \\begin{pmatrix}6\\\\ 4\\\\ 1\\\\ 8\\end{pmatrix},\n",
    "v_3 = \\begin{pmatrix}7\\\\ 2\\\\ -1\\\\ 6\\end{pmatrix}\n",
    "$$\n",
    "\n",
    "Vi får så oplyst at $\\mathcal{B} = \\{u_1, u_2, u_3\\}$ og $\\mathcal{C} = \\{v_1, v_2, v_3\\}$ begge er baser for underrummet $U$"
   ]
  },
  {
   "cell_type": "markdown",
   "metadata": {},
   "source": [
    "## A\n",
    "\n",
    "Vi vil nu bestemme basisskift-matricen $P_{\\mathcal{B}\\leftarrow\\mathcal{C}}$\n",
    "\n",
    "Den lange måde at omdanne et koordinat fra en base til en anden, er at finde vektoren $V_b = x_1\\cdot b_1 + \\dots + x_k\\cdot b_k$. Vi genkender korrekt dette som et ligningssystem og opstiller nu en formel for at beskrive en vektor med en base $[B|u] \\rightarrow [I_n|V_b]$.  \n",
    "Vi kan udføre denne process på flere koordinater af gangen, ved at samle dem til en matrixe $\\left[ B|u_1|u_2|u_3\\right] \\rightarrow \\left[I_n|V_{1b}|V_{2b}|V_{3b}\\right]$"
   ]
  },
  {
   "cell_type": "markdown",
   "metadata": {},
   "source": [
    "Vi opstiller matricerne $B = [u_1|u_2|u_3], C = [v_1,v_2,v_3]$  \n",
    "Basisskiftmatricen kan findes ved at udtrykke alle koordinaterne $v_1,v_2,v_3$ ved basen $B$, og samle dem i en matrice. Baseret på forrige udregninger kan vi så sige\n",
    "$P_{\\mathcal{B}\\leftarrow\\mathcal{C}}$ kan findes ved at bringe $[C|B]$ på reduceret rækkeechelonform"
   ]
  },
  {
   "cell_type": "code",
   "execution_count": 89,
   "metadata": {},
   "outputs": [
    {
     "data": {
      "text/plain": [
       "\\left(\\begin{array}{rrrrrr}\n",
       "5 & 6 & 7 & 1 & 1 & 1 \\\\\n",
       "-3 & 4 & 2 & -1 & 2 & 0 \\\\\n",
       "-4 & 1 & -1 & 1 & 0 & -1 \\\\\n",
       "-1 & 8 & 6 & 1 & 2 & 0\n",
       "\\end{array}\\right)"
      ]
     },
     "execution_count": 89,
     "metadata": {},
     "output_type": "execute_result"
    }
   ],
   "source": [
    "B, C = matrix(QQ,[[1,1,1],[-1,2,0],[1,0,-1],[1,2,0]]), matrix(QQ,[[5,6,7],[-3,4,2],[-4,1,-1],[-1,8,6]])\n",
    "latex(C.augment(B))"
   ]
  },
  {
   "cell_type": "code",
   "execution_count": 90,
   "metadata": {},
   "outputs": [
    {
     "name": "stdout",
     "output_type": "stream",
     "text": [
      "Swap rows r3 <-> r0\n",
      "Add rows r1 + -3 * r0\n",
      "Add rows r2 + -4 * r0\n",
      "Add rows r3 + 5 * r0\n",
      "Rescale row r1 * -1/20\n",
      "Add rows r2 + 31 * r1\n",
      "Add rows r3 + -46 * r1\n",
      "Add rows r0 + -8 * r1\n",
      "Add rows r3 + 1 * r2\n",
      "Add rows r1 + 4 * r2\n",
      "Add rows r0 + -2 * r2\n",
      "Rescale row r2 * -5\n",
      "Rescale row r0 * -1\n"
     ]
    },
    {
     "data": {
      "text/plain": [
       "\\left(\\begin{array}{rrrrrr}\n",
       "1 & 0 & 0 & 7 & -4 & -2 \\\\\n",
       "0 & 1 & 0 & 13 & -7 & -4 \\\\\n",
       "0 & 0 & 1 & -16 & 9 & 5 \\\\\n",
       "0 & 0 & 0 & 0 & 0 & 0\n",
       "\\end{array}\\right)"
      ]
     },
     "execution_count": 90,
     "metadata": {},
     "output_type": "execute_result"
    }
   ],
   "source": [
    "M = C.augment(B)\n",
    "#show(M)\n",
    "args = [\n",
    "    ('s',3,0),\n",
    "    ('a',1,0,-3),\n",
    "    ('a',2,0,-4),\n",
    "    ('a',3,0,5),\n",
    "    ('r',1,-1/20),\n",
    "    ('a',2,1,31),\n",
    "    ('a',3,1,-46),\n",
    "    ('a',0,1,-8),\n",
    "    ('a',3,2,1),\n",
    "    ('a',1,2,4),\n",
    "    ('a',0,2,-2),\n",
    "    ('r',2,-5),\n",
    "    ('r', 0, -1)\n",
    "]\n",
    "for ero in args:\n",
    "    if ero[0] == \"s\":\n",
    "        print(\"Swap rows r{} <-> r{}\".format(ero[1], ero[2]))\n",
    "        M.swap_rows(*ero[1:])\n",
    "    if ero[0] == \"a\":\n",
    "        print(\"Add rows r{} + {} * r{}\".format(ero[1],ero[3],ero[2]))\n",
    "        M.add_multiple_of_row(*ero[1:])\n",
    "    if ero[0] == \"r\":\n",
    "        print(\"Rescale row r{} * {}\".format(*ero[1:]))\n",
    "        M.rescale_row(*ero[1:])\n",
    "    #print(latex(M))\n",
    "latex(M)"
   ]
  },
  {
   "cell_type": "markdown",
   "metadata": {},
   "source": [
    "Vi fjerner nulrækken, og trækker de tre højre kolonner over til en 3x3 matrice, og opstiller\n",
    "$$ P_{\\mathcal{B}\\leftarrow\\mathcal{C}} = \\left(\\begin{array}{rrr}\n",
    "7 & -4 & -2 \\\\\n",
    "13 & -7 & -4 \\\\\n",
    "-16 & 9 & 5\n",
    "\\end{array}\\right) $$"
   ]
  },
  {
   "cell_type": "markdown",
   "metadata": {},
   "source": [
    "## B\n",
    "Vi er nu blevet bedt om at finde basisskift matricen $P_{C\\leftarrow B}$. Vi ved at den er den inverse af $P_{C\\leftarrow B}$  \n",
    "Vi opstiller"
   ]
  },
  {
   "cell_type": "code",
   "execution_count": 91,
   "metadata": {},
   "outputs": [
    {
     "data": {
      "text/plain": [
       "\\left(\\begin{array}{rrr}\n",
       "1 & 2 & 2 \\\\\n",
       "-1 & 3 & 2 \\\\\n",
       "5 & 1 & 3\n",
       "\\end{array}\\right)"
      ]
     },
     "execution_count": 91,
     "metadata": {},
     "output_type": "execute_result"
    }
   ],
   "source": [
    "M_inv = M[:3,3:]\n",
    "latex(M_inv.inverse())"
   ]
  },
  {
   "cell_type": "markdown",
   "metadata": {},
   "source": [
    "## C\n",
    "Vi opstiller nogle koordinater udtrykt ved $\\mathcal{C}$ $x = \\begin{pmatrix}1\\\\\\lambda\\\\-1\\end{pmatrix}$\n",
    "\n",
    "Vi vil gerne udtrykke dem i $\\mathcal{B}$ og siger derfor $P_{C\\leftarrow B}\\cdot x = [x]_B$"
   ]
  },
  {
   "cell_type": "code",
   "execution_count": 59,
   "metadata": {},
   "outputs": [
    {
     "data": {
      "text/html": [
       "<html><script type=\"math/tex; mode=display\">\\newcommand{\\Bold}[1]{\\mathbf{#1}}\\left(-4 \\, l + 9,\\,-7 \\, l + 17,\\,9 \\, l - 21\\right)</script></html>"
      ],
      "text/plain": [
       "(-4*l + 9, -7*l + 17, 9*l - 21)"
      ]
     },
     "metadata": {},
     "output_type": "display_data"
    }
   ],
   "source": [
    "var(\"l\")\n",
    "show(M_inv*vector([1,l,-1]))"
   ]
  },
  {
   "cell_type": "markdown",
   "metadata": {},
   "source": [
    "Og får vektoren $\\begin{pmatrix}-4\\lambda + 9\\\\ -7\\lambda + 17\\\\ 9\\lambda - 21 \\end{pmatrix}$"
   ]
  },
  {
   "cell_type": "markdown",
   "metadata": {},
   "source": [
    "## D\n",
    "Vi vil nu bestemme samtlige vektorer i underrummet $U$ som har formen $(t,t,t,t)$ for et tal $t \\in \\mathbb{R}$  \n",
    "\n",
    "Vi ved at vi kan udtrykke en vektor $v \\in \\mathcal{U}$ som koordinater i $B$. Derfor kan vi skrive alle vektorer op i $B$ ved at udregne $[B|t] \\rightarrow [I_4|[t]_B]$ "
   ]
  },
  {
   "cell_type": "code",
   "execution_count": 93,
   "metadata": {},
   "outputs": [
    {
     "name": "stdout",
     "output_type": "stream",
     "text": [
      "\\left(\\begin{array}{rrrr}\n",
      "1 & 1 & 1 & t \\\\\n",
      "-1 & 2 & 0 & t \\\\\n",
      "1 & 0 & -1 & t \\\\\n",
      "1 & 2 & 0 & t\n",
      "\\end{array}\\right)\n",
      "Add rows r1 + 1 * r0\n",
      "Add rows r2 + -1 * r0\n",
      "Add rows r3 + -1 * r0\n",
      "Swap rows r1 <-> r2\n",
      "Add rows r2 + 3 * r1\n",
      "Add rows r3 + 1 * r1\n",
      "Add rows r0 + 1 * r1\n",
      "Rescale row r2 * 1/5\n",
      "Add rows r3 + -3 * r2\n",
      "Add rows r1 + -2 * r2\n",
      "Add rows r0 + -1 * r2\n",
      "\\left(\\begin{array}{rrrr}\n",
      "1 & 0 & 0 & \\frac{3}{5} \\, t \\\\\n",
      "0 & -1 & 0 & -\\frac{4}{5} \\, t \\\\\n",
      "0 & 0 & -1 & \\frac{2}{5} \\, t \\\\\n",
      "0 & 0 & 0 & -\\frac{6}{5} \\, t\n",
      "\\end{array}\\right)\n"
     ]
    }
   ],
   "source": [
    "var(\"t\")\n",
    "M = B.change_ring(SR).augment(matrix([[t],[t],[t],[t]]))\n",
    "print(latex(M))\n",
    "args = [\n",
    "    ('a',1,0,1),\n",
    "    ('a',2,0,-1),\n",
    "    ('a', 3,0,-1),\n",
    "    ('s',1,2),\n",
    "    ('a',2,1,3),\n",
    "    ('a',3,1,1),\n",
    "    ('a',0,1,1),\n",
    "    ('r',2,1/5),\n",
    "    ('a',3,2,-3),\n",
    "    ('a',1,2,-2),\n",
    "    ('a',0,2,-1)\n",
    "\n",
    "]\n",
    "for ero in args:\n",
    "    if ero[0] == \"s\":\n",
    "        print(\"Swap rows r{} <-> r{}\".format(ero[1], ero[2]))\n",
    "        M.swap_rows(*ero[1:])\n",
    "    if ero[0] == \"a\":\n",
    "        print(\"Add rows r{} + {} * r{}\".format(ero[1],ero[3],ero[2]))\n",
    "        M.add_multiple_of_row(*ero[1:])\n",
    "    if ero[0] == \"r\":\n",
    "        print(\"Rescale row r{} * {}\".format(*ero[1:]))\n",
    "        M.rescale_row(*ero[1:])\n",
    "    #print(latex(M))\n",
    "print(latex(M))"
   ]
  },
  {
   "cell_type": "markdown",
   "metadata": {},
   "source": [
    "Og vi ser nu at ligningssystemet er inconsistent, og at der derfor ingen løsning findes"
   ]
  }
 ],
 "metadata": {
  "kernelspec": {
   "display_name": "SageMath 8.7",
   "language": "",
   "name": "sagemath"
  },
  "language_info": {
   "codemirror_mode": {
    "name": "ipython",
    "version": 2
   },
   "file_extension": ".py",
   "mimetype": "text/x-python",
   "name": "python",
   "nbconvert_exporter": "python",
   "pygments_lexer": "ipython2",
   "version": "2.7.16"
  }
 },
 "nbformat": 4,
 "nbformat_minor": 2
}
